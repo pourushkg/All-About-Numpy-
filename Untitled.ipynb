{
 "cells": [
  {
   "cell_type": "code",
   "execution_count": 2,
   "id": "da1ff067",
   "metadata": {},
   "outputs": [],
   "source": [
    "## numpy stands for numeric python and it is basically use for handling numeric data \n",
    "import numpy as np \n"
   ]
  },
  {
   "cell_type": "code",
   "execution_count": 142,
   "id": "2e074d82",
   "metadata": {},
   "outputs": [
    {
     "data": {
      "text/plain": [
       "numpy.ndarray"
      ]
     },
     "execution_count": 142,
     "metadata": {},
     "output_type": "execute_result"
    }
   ],
   "source": [
    "type(np.array([1,2,3,4,5]))"
   ]
  },
  {
   "cell_type": "markdown",
   "id": "481f22b5",
   "metadata": {},
   "source": [
    "## upcasting all the data "
   ]
  },
  {
   "cell_type": "code",
   "execution_count": 143,
   "id": "9b184806",
   "metadata": {},
   "outputs": [
    {
     "data": {
      "text/plain": [
       "array([1, 2, 3, 4, 5])"
      ]
     },
     "execution_count": 143,
     "metadata": {},
     "output_type": "execute_result"
    }
   ],
   "source": [
    "# Here all the data are in numeric formate \n",
    "np.array([1,2,3,4,5])"
   ]
  },
  {
   "cell_type": "code",
   "execution_count": 144,
   "id": "7a307118",
   "metadata": {},
   "outputs": [
    {
     "data": {
      "text/plain": [
       "array(['1', '2', '3', '4', '5', 'pour', '(4+8j)'], dtype='<U64')"
      ]
     },
     "execution_count": 144,
     "metadata": {},
     "output_type": "execute_result"
    }
   ],
   "source": [
    "# Here all the data are in string formate \n",
    "np.array([1,2,3,4,5,'pour',4+8j])"
   ]
  },
  {
   "cell_type": "code",
   "execution_count": 145,
   "id": "a60f8e32",
   "metadata": {},
   "outputs": [
    {
     "data": {
      "text/plain": [
       "array([1., 2., 3., 4., 5.])"
      ]
     },
     "execution_count": 145,
     "metadata": {},
     "output_type": "execute_result"
    }
   ],
   "source": [
    "## Here all the data are in floating formate '\n",
    "## 1D array\n",
    "np.array([1,2,3,4,5.0])"
   ]
  },
  {
   "cell_type": "code",
   "execution_count": 146,
   "id": "ea7674b6",
   "metadata": {},
   "outputs": [
    {
     "data": {
      "text/plain": [
       "array([[1, 3],\n",
       "       [3, 4]])"
      ]
     },
     "execution_count": 146,
     "metadata": {},
     "output_type": "execute_result"
    }
   ],
   "source": [
    "## 2D array\n",
    "\n",
    "mat=np.array([[1,3],[3,4]])\n",
    "mat"
   ]
  },
  {
   "cell_type": "code",
   "execution_count": 147,
   "id": "0accb775",
   "metadata": {},
   "outputs": [
    {
     "data": {
      "text/plain": [
       "array([[1, 3],\n",
       "       [8, 9],\n",
       "       [4, 9]])"
      ]
     },
     "execution_count": 147,
     "metadata": {},
     "output_type": "execute_result"
    }
   ],
   "source": [
    "np.array([[1,3],[8,9],[4,9]])"
   ]
  },
  {
   "cell_type": "code",
   "execution_count": 148,
   "id": "2ee71aae",
   "metadata": {},
   "outputs": [
    {
     "data": {
      "text/plain": [
       "array([[[1, 3],\n",
       "        [5, 6]],\n",
       "\n",
       "       [[6, 8],\n",
       "        [2, 9]]])"
      ]
     },
     "execution_count": 148,
     "metadata": {},
     "output_type": "execute_result"
    }
   ],
   "source": [
    "# 3D array \n",
    "np.array([[[1,3],[5,6]],[[6,8],[2,9]]])"
   ]
  },
  {
   "cell_type": "code",
   "execution_count": 149,
   "id": "461549e5",
   "metadata": {},
   "outputs": [
    {
     "data": {
      "text/plain": [
       "array([[[1, 2, 3]]])"
      ]
     },
     "execution_count": 149,
     "metadata": {},
     "output_type": "execute_result"
    }
   ],
   "source": [
    "np.array([1,2,3],ndmin=3)"
   ]
  },
  {
   "cell_type": "code",
   "execution_count": 150,
   "id": "b6ef61b4",
   "metadata": {},
   "outputs": [
    {
     "data": {
      "text/plain": [
       "array([3.+0.j, 5.+0.j, 7.+0.j])"
      ]
     },
     "execution_count": 150,
     "metadata": {},
     "output_type": "execute_result"
    }
   ],
   "source": [
    "np.array([3,5,7],dtype=complex)"
   ]
  },
  {
   "cell_type": "code",
   "execution_count": 151,
   "id": "55a4e0b9",
   "metadata": {},
   "outputs": [],
   "source": [
    "## array in the form of tuple\n",
    "mat=np.array([(1,2),(4,5)])\n"
   ]
  },
  {
   "cell_type": "code",
   "execution_count": 152,
   "id": "4ae08467",
   "metadata": {},
   "outputs": [],
   "source": [
    "arr = np.array([(1,2),(4,5)],dtype=[(\"a\",\"<i4\"),(\"b\",\"<i8\")])"
   ]
  },
  {
   "cell_type": "code",
   "execution_count": 153,
   "id": "804c3713",
   "metadata": {},
   "outputs": [
    {
     "data": {
      "text/plain": [
       "array([(1, 2), (4, 5)], dtype=[('a', '<i4'), ('b', '<i8')])"
      ]
     },
     "execution_count": 153,
     "metadata": {},
     "output_type": "execute_result"
    }
   ],
   "source": [
    "arr"
   ]
  },
  {
   "cell_type": "code",
   "execution_count": 154,
   "id": "32bb6ba9",
   "metadata": {},
   "outputs": [
    {
     "data": {
      "text/plain": [
       "numpy.int32"
      ]
     },
     "execution_count": 154,
     "metadata": {},
     "output_type": "execute_result"
    }
   ],
   "source": [
    "type(arr[0][0])"
   ]
  },
  {
   "cell_type": "code",
   "execution_count": 155,
   "id": "250c6c5b",
   "metadata": {},
   "outputs": [
    {
     "data": {
      "text/plain": [
       "numpy.int64"
      ]
     },
     "execution_count": 155,
     "metadata": {},
     "output_type": "execute_result"
    }
   ],
   "source": [
    "type(arr[0][1])"
   ]
  },
  {
   "cell_type": "code",
   "execution_count": 156,
   "id": "de512891",
   "metadata": {},
   "outputs": [],
   "source": [
    "l=[3,4,5,6,7,8]"
   ]
  },
  {
   "cell_type": "code",
   "execution_count": 157,
   "id": "a8da1c81",
   "metadata": {},
   "outputs": [
    {
     "data": {
      "text/plain": [
       "array([3, 4, 5, 6, 7, 8])"
      ]
     },
     "execution_count": 157,
     "metadata": {},
     "output_type": "execute_result"
    }
   ],
   "source": [
    "np.array(l)"
   ]
  },
  {
   "cell_type": "code",
   "execution_count": 158,
   "id": "d82845be",
   "metadata": {},
   "outputs": [
    {
     "data": {
      "text/plain": [
       "array([[1, 2],\n",
       "       [4, 5]])"
      ]
     },
     "execution_count": 158,
     "metadata": {},
     "output_type": "execute_result"
    }
   ],
   "source": [
    "np.asanyarray(mat)"
   ]
  },
  {
   "cell_type": "code",
   "execution_count": 159,
   "id": "a6d6a4ed",
   "metadata": {},
   "outputs": [
    {
     "data": {
      "text/plain": [
       "array([[1, 2],\n",
       "       [4, 5]])"
      ]
     },
     "execution_count": 159,
     "metadata": {},
     "output_type": "execute_result"
    }
   ],
   "source": [
    "mat"
   ]
  },
  {
   "cell_type": "code",
   "execution_count": 160,
   "id": "e3fd4e32",
   "metadata": {},
   "outputs": [],
   "source": [
    "# This is called as shallow copy here if we change the value in the original matrix it will reflect into a \n",
    "a=mat"
   ]
  },
  {
   "cell_type": "code",
   "execution_count": 161,
   "id": "ab6d8eb6",
   "metadata": {},
   "outputs": [],
   "source": [
    "# This is called as deep copy if we change the value in the original matrix it doesnot reflect into b \n",
    "b=np.copy(mat)"
   ]
  },
  {
   "cell_type": "code",
   "execution_count": 162,
   "id": "738b5b33",
   "metadata": {},
   "outputs": [],
   "source": [
    "mat[0][0]=54"
   ]
  },
  {
   "cell_type": "code",
   "execution_count": 163,
   "id": "c4a7136c",
   "metadata": {},
   "outputs": [
    {
     "data": {
      "text/plain": [
       "array([[54,  2],\n",
       "       [ 4,  5]])"
      ]
     },
     "execution_count": 163,
     "metadata": {},
     "output_type": "execute_result"
    }
   ],
   "source": [
    "a"
   ]
  },
  {
   "cell_type": "code",
   "execution_count": 164,
   "id": "6edc3e8b",
   "metadata": {},
   "outputs": [
    {
     "data": {
      "text/plain": [
       "array([[1, 2],\n",
       "       [4, 5]])"
      ]
     },
     "execution_count": 164,
     "metadata": {},
     "output_type": "execute_result"
    }
   ],
   "source": [
    "b"
   ]
  },
  {
   "cell_type": "code",
   "execution_count": 165,
   "id": "397d6b4a",
   "metadata": {},
   "outputs": [
    {
     "data": {
      "text/plain": [
       "numpy.ndarray"
      ]
     },
     "execution_count": 165,
     "metadata": {},
     "output_type": "execute_result"
    }
   ],
   "source": [
    "type(np.fromfunction(lambda i,j : i==j,(4,4)))"
   ]
  },
  {
   "cell_type": "code",
   "execution_count": 166,
   "id": "784785f1",
   "metadata": {},
   "outputs": [
    {
     "data": {
      "text/plain": [
       "array([[ True, False, False, False],\n",
       "       [False,  True, False, False],\n",
       "       [False, False,  True, False],\n",
       "       [False, False, False,  True]])"
      ]
     },
     "execution_count": 166,
     "metadata": {},
     "output_type": "execute_result"
    }
   ],
   "source": [
    "np.fromfunction(lambda i,j : i==j,(4,4))"
   ]
  },
  {
   "cell_type": "code",
   "execution_count": 167,
   "id": "89c0aa81",
   "metadata": {},
   "outputs": [
    {
     "data": {
      "text/plain": [
       "array([[0., 0., 0.],\n",
       "       [0., 1., 2.],\n",
       "       [0., 2., 4.]])"
      ]
     },
     "execution_count": 167,
     "metadata": {},
     "output_type": "execute_result"
    }
   ],
   "source": [
    "np.fromfunction(lambda i,j : i*j,(3,3))"
   ]
  },
  {
   "cell_type": "code",
   "execution_count": 168,
   "id": "627b57cb",
   "metadata": {},
   "outputs": [
    {
     "name": "stderr",
     "output_type": "stream",
     "text": [
      "C:\\Users\\pouru\\AppData\\Local\\Temp\\ipykernel_26968\\2392492972.py:2: RuntimeWarning: divide by zero encountered in true_divide\n",
      "  np.fromfunction(lambda i,j : i/j,(3,3))\n",
      "C:\\Users\\pouru\\AppData\\Local\\Temp\\ipykernel_26968\\2392492972.py:2: RuntimeWarning: invalid value encountered in true_divide\n",
      "  np.fromfunction(lambda i,j : i/j,(3,3))\n"
     ]
    },
    {
     "data": {
      "text/plain": [
       "array([[nan, 0. , 0. ],\n",
       "       [inf, 1. , 0.5],\n",
       "       [inf, 2. , 1. ]])"
      ]
     },
     "execution_count": 168,
     "metadata": {},
     "output_type": "execute_result"
    }
   ],
   "source": [
    "# numpy will not show error while calculating 0/0 or 1/0\n",
    "np.fromfunction(lambda i,j : i/j,(3,3))"
   ]
  },
  {
   "cell_type": "code",
   "execution_count": 169,
   "id": "9df76320",
   "metadata": {},
   "outputs": [
    {
     "data": {
      "text/plain": [
       "[1, 4, 9, 16, 25, 36, 49, 64, 81]"
      ]
     },
     "execution_count": 169,
     "metadata": {},
     "output_type": "execute_result"
    }
   ],
   "source": [
    "## list comprehension \n",
    "[i*i for i in range(1,10)]"
   ]
  },
  {
   "cell_type": "code",
   "execution_count": 170,
   "id": "22dfec23",
   "metadata": {},
   "outputs": [
    {
     "data": {
      "text/plain": [
       "array([1, 3, 4, 5])"
      ]
     },
     "execution_count": 170,
     "metadata": {},
     "output_type": "execute_result"
    }
   ],
   "source": [
    "np.fromstring('1,3,4,5',sep=\",\",dtype=int)"
   ]
  },
  {
   "cell_type": "code",
   "execution_count": 171,
   "id": "8369297c",
   "metadata": {},
   "outputs": [
    {
     "data": {
      "text/plain": [
       "array([45.+0.j, 34.+0.j, 23.+0.j, 48.+0.j])"
      ]
     },
     "execution_count": 171,
     "metadata": {},
     "output_type": "execute_result"
    }
   ],
   "source": [
    "np.fromstring('45,34,23,48',sep=\",\",dtype=complex)"
   ]
  },
  {
   "cell_type": "code",
   "execution_count": 172,
   "id": "773e9623",
   "metadata": {},
   "outputs": [],
   "source": [
    "## How to find the dimension of an array \n",
    "arr1 = np.array([[2,3,4,5],[3,7,8,5],[8,5,3,6]])"
   ]
  },
  {
   "cell_type": "code",
   "execution_count": 173,
   "id": "1446e82f",
   "metadata": {},
   "outputs": [
    {
     "data": {
      "text/plain": [
       "array([[2, 3, 4, 5],\n",
       "       [3, 7, 8, 5],\n",
       "       [8, 5, 3, 6]])"
      ]
     },
     "execution_count": 173,
     "metadata": {},
     "output_type": "execute_result"
    }
   ],
   "source": [
    "arr1"
   ]
  },
  {
   "cell_type": "code",
   "execution_count": 174,
   "id": "8b362095",
   "metadata": {},
   "outputs": [
    {
     "data": {
      "text/plain": [
       "numpy.ndarray"
      ]
     },
     "execution_count": 174,
     "metadata": {},
     "output_type": "execute_result"
    }
   ],
   "source": [
    "type(arr1)"
   ]
  },
  {
   "cell_type": "code",
   "execution_count": 175,
   "id": "26966d32",
   "metadata": {},
   "outputs": [
    {
     "data": {
      "text/plain": [
       "2"
      ]
     },
     "execution_count": 175,
     "metadata": {},
     "output_type": "execute_result"
    }
   ],
   "source": [
    "arr1.ndim"
   ]
  },
  {
   "cell_type": "code",
   "execution_count": 176,
   "id": "2de0b5f7",
   "metadata": {},
   "outputs": [
    {
     "data": {
      "text/plain": [
       "12"
      ]
     },
     "execution_count": 176,
     "metadata": {},
     "output_type": "execute_result"
    }
   ],
   "source": [
    "arr1.size"
   ]
  },
  {
   "cell_type": "code",
   "execution_count": 177,
   "id": "e57a5eda",
   "metadata": {},
   "outputs": [
    {
     "data": {
      "text/plain": [
       "(3, 4)"
      ]
     },
     "execution_count": 177,
     "metadata": {},
     "output_type": "execute_result"
    }
   ],
   "source": [
    "arr1.shape"
   ]
  },
  {
   "cell_type": "code",
   "execution_count": 178,
   "id": "53f322f5",
   "metadata": {},
   "outputs": [
    {
     "data": {
      "text/plain": [
       "dtype('int32')"
      ]
     },
     "execution_count": 178,
     "metadata": {},
     "output_type": "execute_result"
    }
   ],
   "source": [
    "arr1.dtype"
   ]
  },
  {
   "cell_type": "code",
   "execution_count": 179,
   "id": "85d71c6e",
   "metadata": {},
   "outputs": [],
   "source": [
    "arr4=np.array([[[[1,2,3,4],[4,7,8,3]],[[4,3,2,5],[6,3,5,8]],[[4,8,6,9],[5,8,3,9]],[[6,3,9,5],[7,8,4,5]]]])"
   ]
  },
  {
   "cell_type": "code",
   "execution_count": 180,
   "id": "c5f5bfa4",
   "metadata": {},
   "outputs": [
    {
     "data": {
      "text/plain": [
       "array([[[[1, 2, 3, 4],\n",
       "         [4, 7, 8, 3]],\n",
       "\n",
       "        [[4, 3, 2, 5],\n",
       "         [6, 3, 5, 8]],\n",
       "\n",
       "        [[4, 8, 6, 9],\n",
       "         [5, 8, 3, 9]],\n",
       "\n",
       "        [[6, 3, 9, 5],\n",
       "         [7, 8, 4, 5]]]])"
      ]
     },
     "execution_count": 180,
     "metadata": {},
     "output_type": "execute_result"
    }
   ],
   "source": [
    "arr4"
   ]
  },
  {
   "cell_type": "code",
   "execution_count": 181,
   "id": "763f58ac",
   "metadata": {},
   "outputs": [
    {
     "data": {
      "text/plain": [
       "4"
      ]
     },
     "execution_count": 181,
     "metadata": {},
     "output_type": "execute_result"
    }
   ],
   "source": [
    "arr4.ndim"
   ]
  },
  {
   "cell_type": "code",
   "execution_count": 182,
   "id": "bd6bff28",
   "metadata": {},
   "outputs": [
    {
     "data": {
      "text/plain": [
       "(1, 4, 2, 4)"
      ]
     },
     "execution_count": 182,
     "metadata": {},
     "output_type": "execute_result"
    }
   ],
   "source": [
    "arr4.shape"
   ]
  },
  {
   "cell_type": "code",
   "execution_count": 183,
   "id": "62bbb8ee",
   "metadata": {},
   "outputs": [
    {
     "data": {
      "text/plain": [
       "[0, 1, 2, 3, 4, 5]"
      ]
     },
     "execution_count": 183,
     "metadata": {},
     "output_type": "execute_result"
    }
   ],
   "source": [
    "# float object cannot be interpreted in range function\n",
    "list(range(6))"
   ]
  },
  {
   "cell_type": "code",
   "execution_count": 184,
   "id": "28008cbe",
   "metadata": {},
   "outputs": [
    {
     "data": {
      "text/plain": [
       "array([6.6, 6.9, 7.2, 7.5, 7.8, 8.1, 8.4, 8.7, 9. ])"
      ]
     },
     "execution_count": 184,
     "metadata": {},
     "output_type": "execute_result"
    }
   ],
   "source": [
    "# float object can be interpreted in arange function \n",
    "np.arange(6.6,9,.3)\n"
   ]
  },
  {
   "cell_type": "code",
   "execution_count": 185,
   "id": "1591c141",
   "metadata": {},
   "outputs": [
    {
     "data": {
      "text/plain": [
       "array([1.  , 1.25, 1.5 , 1.75, 2.  ])"
      ]
     },
     "execution_count": 185,
     "metadata": {},
     "output_type": "execute_result"
    }
   ],
   "source": [
    "# command to divide the region into 5 different part\n",
    "np.linspace(1,2,5)"
   ]
  },
  {
   "cell_type": "code",
   "execution_count": 186,
   "id": "86759d1d",
   "metadata": {},
   "outputs": [
    {
     "data": {
      "text/plain": [
       "array([0., 0., 0., 0., 0.])"
      ]
     },
     "execution_count": 186,
     "metadata": {},
     "output_type": "execute_result"
    }
   ],
   "source": [
    "np.zeros(5)"
   ]
  },
  {
   "cell_type": "code",
   "execution_count": 187,
   "id": "46150b2b",
   "metadata": {},
   "outputs": [
    {
     "data": {
      "text/plain": [
       "array([[0., 0., 0., 0., 0.],\n",
       "       [0., 0., 0., 0., 0.]])"
      ]
     },
     "execution_count": 187,
     "metadata": {},
     "output_type": "execute_result"
    }
   ],
   "source": [
    "np.zeros((2,5))"
   ]
  },
  {
   "cell_type": "code",
   "execution_count": 188,
   "id": "4e2f3443",
   "metadata": {},
   "outputs": [
    {
     "data": {
      "text/plain": [
       "array([[[0., 0., 0., 0., 0.],\n",
       "        [0., 0., 0., 0., 0.],\n",
       "        [0., 0., 0., 0., 0.],\n",
       "        [0., 0., 0., 0., 0.]],\n",
       "\n",
       "       [[0., 0., 0., 0., 0.],\n",
       "        [0., 0., 0., 0., 0.],\n",
       "        [0., 0., 0., 0., 0.],\n",
       "        [0., 0., 0., 0., 0.]]])"
      ]
     },
     "execution_count": 188,
     "metadata": {},
     "output_type": "execute_result"
    }
   ],
   "source": [
    "np.zeros((2,4,5))"
   ]
  },
  {
   "cell_type": "code",
   "execution_count": 189,
   "id": "daaf8c7f",
   "metadata": {},
   "outputs": [
    {
     "data": {
      "text/plain": [
       "array([1., 1., 1., 1., 1.])"
      ]
     },
     "execution_count": 189,
     "metadata": {},
     "output_type": "execute_result"
    }
   ],
   "source": [
    "np.ones(5)"
   ]
  },
  {
   "cell_type": "code",
   "execution_count": 190,
   "id": "d9a0ff6f",
   "metadata": {},
   "outputs": [
    {
     "data": {
      "text/plain": [
       "array([[[1.],\n",
       "        [1.],\n",
       "        [1.]],\n",
       "\n",
       "       [[1.],\n",
       "        [1.],\n",
       "        [1.]]])"
      ]
     },
     "execution_count": 190,
     "metadata": {},
     "output_type": "execute_result"
    }
   ],
   "source": [
    "np.ones((2,3,1))"
   ]
  },
  {
   "cell_type": "code",
   "execution_count": 191,
   "id": "4b9008ce",
   "metadata": {},
   "outputs": [
    {
     "data": {
      "text/plain": [
       "array([1., 1., 1., 1., 1.])"
      ]
     },
     "execution_count": 191,
     "metadata": {},
     "output_type": "execute_result"
    }
   ],
   "source": [
    "np.empty(5)"
   ]
  },
  {
   "cell_type": "code",
   "execution_count": 192,
   "id": "03e50bd3",
   "metadata": {},
   "outputs": [
    {
     "data": {
      "text/plain": [
       "array([[4.67296746e-307, 1.69121096e-306, 1.86921279e-306,\n",
       "        8.34441742e-308, 1.78022342e-306],\n",
       "       [6.23058028e-307, 9.79107872e-307, 6.89807188e-307,\n",
       "        7.56594375e-307, 6.23060065e-307],\n",
       "       [1.78021527e-306, 8.34454050e-308, 1.11261027e-306,\n",
       "        2.04712907e-306, 3.49698923e-317]])"
      ]
     },
     "execution_count": 192,
     "metadata": {},
     "output_type": "execute_result"
    }
   ],
   "source": [
    "np.empty((3,5))"
   ]
  },
  {
   "cell_type": "code",
   "execution_count": 193,
   "id": "85ca81d3",
   "metadata": {},
   "outputs": [
    {
     "data": {
      "text/plain": [
       "array([[1, 0, 0],\n",
       "       [0, 1, 0],\n",
       "       [0, 0, 1]])"
      ]
     },
     "execution_count": 193,
     "metadata": {},
     "output_type": "execute_result"
    }
   ],
   "source": [
    "## numpy to represent identity matrix \n",
    "np.eye(3,dtype=int)"
   ]
  },
  {
   "cell_type": "code",
   "execution_count": 194,
   "id": "19a77e27",
   "metadata": {},
   "outputs": [
    {
     "data": {
      "text/plain": [
       "array([[1.        , 1.06122449, 1.12244898, 1.18367347, 1.24489796,\n",
       "        1.30612245, 1.36734694, 1.42857143, 1.48979592, 1.55102041,\n",
       "        1.6122449 , 1.67346939, 1.73469388, 1.79591837, 1.85714286,\n",
       "        1.91836735, 1.97959184, 2.04081633, 2.10204082, 2.16326531,\n",
       "        2.2244898 , 2.28571429, 2.34693878, 2.40816327, 2.46938776,\n",
       "        2.53061224, 2.59183673, 2.65306122, 2.71428571, 2.7755102 ,\n",
       "        2.83673469, 2.89795918, 2.95918367, 3.02040816, 3.08163265,\n",
       "        3.14285714, 3.20408163, 3.26530612, 3.32653061, 3.3877551 ,\n",
       "        3.44897959, 3.51020408, 3.57142857, 3.63265306, 3.69387755,\n",
       "        3.75510204, 3.81632653, 3.87755102, 3.93877551, 4.        ],\n",
       "       [6.        , 5.95918367, 5.91836735, 5.87755102, 5.83673469,\n",
       "        5.79591837, 5.75510204, 5.71428571, 5.67346939, 5.63265306,\n",
       "        5.59183673, 5.55102041, 5.51020408, 5.46938776, 5.42857143,\n",
       "        5.3877551 , 5.34693878, 5.30612245, 5.26530612, 5.2244898 ,\n",
       "        5.18367347, 5.14285714, 5.10204082, 5.06122449, 5.02040816,\n",
       "        4.97959184, 4.93877551, 4.89795918, 4.85714286, 4.81632653,\n",
       "        4.7755102 , 4.73469388, 4.69387755, 4.65306122, 4.6122449 ,\n",
       "        4.57142857, 4.53061224, 4.48979592, 4.44897959, 4.40816327,\n",
       "        4.36734694, 4.32653061, 4.28571429, 4.24489796, 4.20408163,\n",
       "        4.16326531, 4.12244898, 4.08163265, 4.04081633, 4.        ]])"
      ]
     },
     "execution_count": 194,
     "metadata": {},
     "output_type": "execute_result"
    }
   ],
   "source": [
    "np.linspace([1,6],4,endpoint=True,axis=1)"
   ]
  },
  {
   "cell_type": "code",
   "execution_count": 195,
   "id": "ba1a0ccc",
   "metadata": {},
   "outputs": [
    {
     "data": {
      "text/plain": [
       "array([ 100.        ,  177.827941  ,  316.22776602,  562.34132519,\n",
       "       1000.        ])"
      ]
     },
     "execution_count": 195,
     "metadata": {},
     "output_type": "execute_result"
    }
   ],
   "source": [
    "np.logspace(2,3,5)"
   ]
  },
  {
   "cell_type": "code",
   "execution_count": 196,
   "id": "ed853e9f",
   "metadata": {},
   "outputs": [
    {
     "data": {
      "text/plain": [
       "array([[ 100.        ],\n",
       "       [ 104.81131342],\n",
       "       [ 109.8541142 ],\n",
       "       [ 115.13953993],\n",
       "       [ 120.67926406],\n",
       "       [ 126.48552169],\n",
       "       [ 132.57113656],\n",
       "       [ 138.94954944],\n",
       "       [ 145.63484775],\n",
       "       [ 152.64179672],\n",
       "       [ 159.98587196],\n",
       "       [ 167.68329368],\n",
       "       [ 175.75106249],\n",
       "       [ 184.20699693],\n",
       "       [ 193.06977289],\n",
       "       [ 202.35896477],\n",
       "       [ 212.09508879],\n",
       "       [ 222.29964825],\n",
       "       [ 232.99518105],\n",
       "       [ 244.20530945],\n",
       "       [ 255.95479227],\n",
       "       [ 268.26957953],\n",
       "       [ 281.1768698 ],\n",
       "       [ 294.70517026],\n",
       "       [ 308.88435965],\n",
       "       [ 323.74575428],\n",
       "       [ 339.32217719],\n",
       "       [ 355.64803062],\n",
       "       [ 372.75937203],\n",
       "       [ 390.69399371],\n",
       "       [ 409.49150624],\n",
       "       [ 429.19342601],\n",
       "       [ 449.8432669 ],\n",
       "       [ 471.48663635],\n",
       "       [ 494.17133613],\n",
       "       [ 517.94746792],\n",
       "       [ 542.86754393],\n",
       "       [ 568.9866029 ],\n",
       "       [ 596.36233166],\n",
       "       [ 625.05519253],\n",
       "       [ 655.12855686],\n",
       "       [ 686.648845  ],\n",
       "       [ 719.685673  ],\n",
       "       [ 754.31200634],\n",
       "       [ 790.60432109],\n",
       "       [ 828.64277285],\n",
       "       [ 868.51137375],\n",
       "       [ 910.29817799],\n",
       "       [ 954.09547635],\n",
       "       [1000.        ]])"
      ]
     },
     "execution_count": 196,
     "metadata": {},
     "output_type": "execute_result"
    }
   ],
   "source": [
    "np.logspace([2],[3],axis=0)"
   ]
  },
  {
   "cell_type": "code",
   "execution_count": 197,
   "id": "c9db6ccb",
   "metadata": {},
   "outputs": [],
   "source": [
    "d=np.linspace(4,7,40)"
   ]
  },
  {
   "cell_type": "code",
   "execution_count": 198,
   "id": "f10a30e7",
   "metadata": {},
   "outputs": [
    {
     "data": {
      "text/plain": [
       "array([4.        , 4.07692308, 4.15384615, 4.23076923, 4.30769231,\n",
       "       4.38461538, 4.46153846, 4.53846154, 4.61538462, 4.69230769,\n",
       "       4.76923077, 4.84615385, 4.92307692, 5.        , 5.07692308,\n",
       "       5.15384615, 5.23076923, 5.30769231, 5.38461538, 5.46153846,\n",
       "       5.53846154, 5.61538462, 5.69230769, 5.76923077, 5.84615385,\n",
       "       5.92307692, 6.        , 6.07692308, 6.15384615, 6.23076923,\n",
       "       6.30769231, 6.38461538, 6.46153846, 6.53846154, 6.61538462,\n",
       "       6.69230769, 6.76923077, 6.84615385, 6.92307692, 7.        ])"
      ]
     },
     "execution_count": 198,
     "metadata": {},
     "output_type": "execute_result"
    }
   ],
   "source": [
    "d"
   ]
  },
  {
   "cell_type": "code",
   "execution_count": 199,
   "id": "fe9573e8",
   "metadata": {},
   "outputs": [
    {
     "data": {
      "text/plain": [
       "1"
      ]
     },
     "execution_count": 199,
     "metadata": {},
     "output_type": "execute_result"
    }
   ],
   "source": [
    "d.ndim"
   ]
  },
  {
   "cell_type": "code",
   "execution_count": 200,
   "id": "9d1bf35b",
   "metadata": {},
   "outputs": [
    {
     "data": {
      "text/plain": [
       "(40,)"
      ]
     },
     "execution_count": 200,
     "metadata": {},
     "output_type": "execute_result"
    }
   ],
   "source": [
    "d.shape"
   ]
  },
  {
   "cell_type": "code",
   "execution_count": 201,
   "id": "28e59110",
   "metadata": {},
   "outputs": [
    {
     "data": {
      "text/plain": [
       "array([[4.        ],\n",
       "       [4.07692308],\n",
       "       [4.15384615],\n",
       "       [4.23076923],\n",
       "       [4.30769231],\n",
       "       [4.38461538],\n",
       "       [4.46153846],\n",
       "       [4.53846154],\n",
       "       [4.61538462],\n",
       "       [4.69230769],\n",
       "       [4.76923077],\n",
       "       [4.84615385],\n",
       "       [4.92307692],\n",
       "       [5.        ],\n",
       "       [5.07692308],\n",
       "       [5.15384615],\n",
       "       [5.23076923],\n",
       "       [5.30769231],\n",
       "       [5.38461538],\n",
       "       [5.46153846],\n",
       "       [5.53846154],\n",
       "       [5.61538462],\n",
       "       [5.69230769],\n",
       "       [5.76923077],\n",
       "       [5.84615385],\n",
       "       [5.92307692],\n",
       "       [6.        ],\n",
       "       [6.07692308],\n",
       "       [6.15384615],\n",
       "       [6.23076923],\n",
       "       [6.30769231],\n",
       "       [6.38461538],\n",
       "       [6.46153846],\n",
       "       [6.53846154],\n",
       "       [6.61538462],\n",
       "       [6.69230769],\n",
       "       [6.76923077],\n",
       "       [6.84615385],\n",
       "       [6.92307692],\n",
       "       [7.        ]])"
      ]
     },
     "execution_count": 201,
     "metadata": {},
     "output_type": "execute_result"
    }
   ],
   "source": [
    "d.reshape(40,1)"
   ]
  },
  {
   "cell_type": "code",
   "execution_count": 202,
   "id": "3a7ee6e5",
   "metadata": {},
   "outputs": [
    {
     "data": {
      "text/plain": [
       "array([[[4.        , 4.07692308, 4.15384615, 4.23076923, 4.30769231,\n",
       "         4.38461538, 4.46153846, 4.53846154, 4.61538462, 4.69230769,\n",
       "         4.76923077, 4.84615385, 4.92307692, 5.        , 5.07692308,\n",
       "         5.15384615, 5.23076923, 5.30769231, 5.38461538, 5.46153846]],\n",
       "\n",
       "       [[5.53846154, 5.61538462, 5.69230769, 5.76923077, 5.84615385,\n",
       "         5.92307692, 6.        , 6.07692308, 6.15384615, 6.23076923,\n",
       "         6.30769231, 6.38461538, 6.46153846, 6.53846154, 6.61538462,\n",
       "         6.69230769, 6.76923077, 6.84615385, 6.92307692, 7.        ]]])"
      ]
     },
     "execution_count": 202,
     "metadata": {},
     "output_type": "execute_result"
    }
   ],
   "source": [
    "d.reshape(2,1,20)"
   ]
  },
  {
   "cell_type": "code",
   "execution_count": 203,
   "id": "3d7fdb64",
   "metadata": {},
   "outputs": [
    {
     "data": {
      "text/plain": [
       "array([[[4.        , 4.07692308, 4.15384615, 4.23076923, 4.30769231,\n",
       "         4.38461538, 4.46153846, 4.53846154, 4.61538462, 4.69230769],\n",
       "        [4.76923077, 4.84615385, 4.92307692, 5.        , 5.07692308,\n",
       "         5.15384615, 5.23076923, 5.30769231, 5.38461538, 5.46153846],\n",
       "        [5.53846154, 5.61538462, 5.69230769, 5.76923077, 5.84615385,\n",
       "         5.92307692, 6.        , 6.07692308, 6.15384615, 6.23076923],\n",
       "        [6.30769231, 6.38461538, 6.46153846, 6.53846154, 6.61538462,\n",
       "         6.69230769, 6.76923077, 6.84615385, 6.92307692, 7.        ]]])"
      ]
     },
     "execution_count": 203,
     "metadata": {},
     "output_type": "execute_result"
    }
   ],
   "source": [
    "d.reshape(1,4,10)"
   ]
  },
  {
   "cell_type": "code",
   "execution_count": 204,
   "id": "1f90e54e",
   "metadata": {},
   "outputs": [
    {
     "data": {
      "text/plain": [
       "array([0.66351072, 0.38729254, 0.47910502])"
      ]
     },
     "execution_count": 204,
     "metadata": {},
     "output_type": "execute_result"
    }
   ],
   "source": [
    "np.random.rand(3)"
   ]
  },
  {
   "cell_type": "code",
   "execution_count": 205,
   "id": "9d515c9c",
   "metadata": {},
   "outputs": [
    {
     "data": {
      "text/plain": [
       "array([ 0.40520554,  1.02723758,  0.44139694, -0.25490897,  1.23439041])"
      ]
     },
     "execution_count": 205,
     "metadata": {},
     "output_type": "execute_result"
    }
   ],
   "source": [
    "np.random.randn(5)"
   ]
  },
  {
   "cell_type": "code",
   "execution_count": 206,
   "id": "221d3b5f",
   "metadata": {},
   "outputs": [
    {
     "data": {
      "text/plain": [
       "array([[[ 0.91262267, -1.17492672,  0.48079241],\n",
       "        [ 1.50328789,  0.38548911,  1.05340904]],\n",
       "\n",
       "       [[-1.80080243, -1.31540196,  0.30740659],\n",
       "        [-1.24320449,  0.81024607,  0.02296261]]])"
      ]
     },
     "execution_count": 206,
     "metadata": {},
     "output_type": "execute_result"
    }
   ],
   "source": [
    "np.random.randn(2,2,3)"
   ]
  },
  {
   "cell_type": "code",
   "execution_count": 207,
   "id": "049a2bd7",
   "metadata": {},
   "outputs": [
    {
     "data": {
      "text/plain": [
       "8"
      ]
     },
     "execution_count": 207,
     "metadata": {},
     "output_type": "execute_result"
    }
   ],
   "source": [
    "np.random.randint(5,60)"
   ]
  },
  {
   "cell_type": "code",
   "execution_count": 208,
   "id": "169a33f3",
   "metadata": {},
   "outputs": [
    {
     "data": {
      "text/plain": [
       "array([[54, 10, 51,  9],\n",
       "       [13, 56, 17, 15],\n",
       "       [40, 43, 10, 49],\n",
       "       [24,  9, 36, 50]])"
      ]
     },
     "execution_count": 208,
     "metadata": {},
     "output_type": "execute_result"
    }
   ],
   "source": [
    "np.random.randint(5,60,(4,4))"
   ]
  },
  {
   "cell_type": "code",
   "execution_count": 209,
   "id": "7c04b9c2",
   "metadata": {},
   "outputs": [
    {
     "data": {
      "text/plain": [
       "array([[[ 1.57764455, -0.32798257, -0.35317081],\n",
       "        [ 0.68563314, -0.29575637, -0.20957567]],\n",
       "\n",
       "       [[-0.58476435, -0.70690074,  0.68828139],\n",
       "        [ 1.33340961, -0.2299119 ,  2.12519034]]])"
      ]
     },
     "execution_count": 209,
     "metadata": {},
     "output_type": "execute_result"
    }
   ],
   "source": [
    "np.random.randn(2,2,3)"
   ]
  },
  {
   "cell_type": "code",
   "execution_count": 210,
   "id": "bacdcdcf",
   "metadata": {},
   "outputs": [],
   "source": [
    "arr = np.random.randint(3,9,(3,3))"
   ]
  },
  {
   "cell_type": "code",
   "execution_count": 211,
   "id": "f6b9fe3e",
   "metadata": {},
   "outputs": [
    {
     "data": {
      "text/plain": [
       "array([[3, 7, 8],\n",
       "       [5, 5, 4],\n",
       "       [8, 6, 5]])"
      ]
     },
     "execution_count": 211,
     "metadata": {},
     "output_type": "execute_result"
    }
   ],
   "source": [
    "arr"
   ]
  },
  {
   "cell_type": "code",
   "execution_count": 212,
   "id": "57fde240",
   "metadata": {},
   "outputs": [
    {
     "data": {
      "text/plain": [
       "array([[3, 7, 8, 5, 5, 4, 8, 6, 5]])"
      ]
     },
     "execution_count": 212,
     "metadata": {},
     "output_type": "execute_result"
    }
   ],
   "source": [
    "arr.reshape(1,9)"
   ]
  },
  {
   "cell_type": "code",
   "execution_count": 213,
   "id": "83ad0955",
   "metadata": {},
   "outputs": [
    {
     "data": {
      "text/plain": [
       "array([[3],\n",
       "       [7],\n",
       "       [8],\n",
       "       [5],\n",
       "       [5],\n",
       "       [4],\n",
       "       [8],\n",
       "       [6],\n",
       "       [5]])"
      ]
     },
     "execution_count": 213,
     "metadata": {},
     "output_type": "execute_result"
    }
   ],
   "source": [
    "arr.reshape(9,1)"
   ]
  },
  {
   "cell_type": "code",
   "execution_count": 214,
   "id": "dc60134c",
   "metadata": {},
   "outputs": [
    {
     "data": {
      "text/plain": [
       "array([[[3, 7, 8],\n",
       "        [5, 5, 4],\n",
       "        [8, 6, 5]]])"
      ]
     },
     "execution_count": 214,
     "metadata": {},
     "output_type": "execute_result"
    }
   ],
   "source": [
    "arr.reshape(1,3,3)"
   ]
  },
  {
   "cell_type": "code",
   "execution_count": 215,
   "id": "fb197a80",
   "metadata": {},
   "outputs": [
    {
     "data": {
      "text/plain": [
       "array([[3, 7, 8],\n",
       "       [5, 5, 4],\n",
       "       [8, 6, 5]])"
      ]
     },
     "execution_count": 215,
     "metadata": {},
     "output_type": "execute_result"
    }
   ],
   "source": [
    "# -1 shows that it can take all the remaining data \n",
    "arr.reshape(3,-1)"
   ]
  },
  {
   "cell_type": "code",
   "execution_count": 216,
   "id": "6f770d44",
   "metadata": {},
   "outputs": [
    {
     "data": {
      "text/plain": [
       "array([[3, 7, 8, 5, 5, 4, 8, 6, 5]])"
      ]
     },
     "execution_count": 216,
     "metadata": {},
     "output_type": "execute_result"
    }
   ],
   "source": [
    "arr.reshape(1,-1)"
   ]
  },
  {
   "cell_type": "code",
   "execution_count": 217,
   "id": "3d470003",
   "metadata": {},
   "outputs": [
    {
     "data": {
      "text/plain": [
       "8"
      ]
     },
     "execution_count": 217,
     "metadata": {},
     "output_type": "execute_result"
    }
   ],
   "source": [
    "arr.max()"
   ]
  },
  {
   "cell_type": "code",
   "execution_count": 218,
   "id": "fd1ccffd",
   "metadata": {},
   "outputs": [
    {
     "data": {
      "text/plain": [
       "3"
      ]
     },
     "execution_count": 218,
     "metadata": {},
     "output_type": "execute_result"
    }
   ],
   "source": [
    "arr.min()"
   ]
  },
  {
   "cell_type": "code",
   "execution_count": 219,
   "id": "12fe88c0",
   "metadata": {},
   "outputs": [],
   "source": [
    "arr1=np.random.randint(4,100,(5,5))"
   ]
  },
  {
   "cell_type": "code",
   "execution_count": 220,
   "id": "41331bd8",
   "metadata": {},
   "outputs": [
    {
     "data": {
      "text/plain": [
       "array([[87, 21, 94, 19, 71],\n",
       "       [ 7, 76, 48, 24, 68],\n",
       "       [ 5, 33, 82, 65, 23],\n",
       "       [ 5, 85, 65, 81, 44],\n",
       "       [98, 74, 75, 42, 70]])"
      ]
     },
     "execution_count": 220,
     "metadata": {},
     "output_type": "execute_result"
    }
   ],
   "source": [
    "arr1"
   ]
  },
  {
   "cell_type": "code",
   "execution_count": 221,
   "id": "070010ae",
   "metadata": {},
   "outputs": [
    {
     "data": {
      "text/plain": [
       "array([[81, 44],\n",
       "       [42, 70]])"
      ]
     },
     "execution_count": 221,
     "metadata": {},
     "output_type": "execute_result"
    }
   ],
   "source": [
    "arr1[3:,3:]"
   ]
  },
  {
   "cell_type": "code",
   "execution_count": 223,
   "id": "70a4c45c",
   "metadata": {},
   "outputs": [
    {
     "data": {
      "text/plain": [
       "array([[21, 19],\n",
       "       [76, 24],\n",
       "       [33, 65],\n",
       "       [85, 81],\n",
       "       [74, 42]])"
      ]
     },
     "execution_count": 223,
     "metadata": {},
     "output_type": "execute_result"
    }
   ],
   "source": [
    "arr1[:,[1,3]]"
   ]
  },
  {
   "cell_type": "code",
   "execution_count": 225,
   "id": "b73a749f",
   "metadata": {},
   "outputs": [
    {
     "data": {
      "text/plain": [
       "array([87, 21, 94, 19, 71, 76, 48, 24, 68, 33, 82, 65, 23, 85, 65, 81, 44,\n",
       "       98, 74, 75, 42, 70])"
      ]
     },
     "execution_count": 225,
     "metadata": {},
     "output_type": "execute_result"
    }
   ],
   "source": [
    "arr1[arr1>10]"
   ]
  },
  {
   "cell_type": "code",
   "execution_count": 226,
   "id": "5ce5f0ff",
   "metadata": {},
   "outputs": [
    {
     "data": {
      "text/plain": [
       "array([[ True,  True,  True,  True,  True],\n",
       "       [False,  True,  True,  True,  True],\n",
       "       [False,  True,  True,  True,  True],\n",
       "       [False,  True,  True,  True,  True],\n",
       "       [ True,  True,  True,  True,  True]])"
      ]
     },
     "execution_count": 226,
     "metadata": {},
     "output_type": "execute_result"
    }
   ],
   "source": [
    "arr1>10"
   ]
  },
  {
   "cell_type": "code",
   "execution_count": 227,
   "id": "0b40f8c8",
   "metadata": {},
   "outputs": [],
   "source": [
    "arr2=np.random.randint(2,4,(3,3))"
   ]
  },
  {
   "cell_type": "code",
   "execution_count": 228,
   "id": "345b40e4",
   "metadata": {},
   "outputs": [],
   "source": [
    "arr3=np.random.randint(2,4,(3,3))"
   ]
  },
  {
   "cell_type": "code",
   "execution_count": 231,
   "id": "cc16ef10",
   "metadata": {},
   "outputs": [
    {
     "data": {
      "text/plain": [
       "array([[3, 2, 3],\n",
       "       [3, 2, 2],\n",
       "       [2, 2, 3]])"
      ]
     },
     "execution_count": 231,
     "metadata": {},
     "output_type": "execute_result"
    }
   ],
   "source": [
    "arr2"
   ]
  },
  {
   "cell_type": "code",
   "execution_count": 234,
   "id": "23b88f22",
   "metadata": {},
   "outputs": [
    {
     "data": {
      "text/plain": [
       "array([[3, 2, 2],\n",
       "       [2, 3, 2],\n",
       "       [3, 2, 3]])"
      ]
     },
     "execution_count": 234,
     "metadata": {},
     "output_type": "execute_result"
    }
   ],
   "source": [
    "arr3"
   ]
  },
  {
   "cell_type": "code",
   "execution_count": 237,
   "id": "ddf7c6c7",
   "metadata": {},
   "outputs": [
    {
     "data": {
      "text/plain": [
       "array([[9, 4, 6],\n",
       "       [6, 6, 4],\n",
       "       [6, 4, 9]])"
      ]
     },
     "execution_count": 237,
     "metadata": {},
     "output_type": "execute_result"
    }
   ],
   "source": [
    "arr2*arr3"
   ]
  },
  {
   "cell_type": "code",
   "execution_count": 238,
   "id": "65c7466c",
   "metadata": {},
   "outputs": [
    {
     "data": {
      "text/plain": [
       "array([[22, 18, 19],\n",
       "       [19, 16, 16],\n",
       "       [19, 16, 17]])"
      ]
     },
     "execution_count": 238,
     "metadata": {},
     "output_type": "execute_result"
    }
   ],
   "source": [
    "arr2@arr3"
   ]
  },
  {
   "cell_type": "code",
   "execution_count": 239,
   "id": "26dd7fd6",
   "metadata": {},
   "outputs": [],
   "source": [
    "arr=np.zeros((3,4))"
   ]
  },
  {
   "cell_type": "code",
   "execution_count": 240,
   "id": "24fd1090",
   "metadata": {},
   "outputs": [
    {
     "data": {
      "text/plain": [
       "array([[0., 0., 0., 0.],\n",
       "       [0., 0., 0., 0.],\n",
       "       [0., 0., 0., 0.]])"
      ]
     },
     "execution_count": 240,
     "metadata": {},
     "output_type": "execute_result"
    }
   ],
   "source": [
    "arr"
   ]
  },
  {
   "cell_type": "code",
   "execution_count": 242,
   "id": "0e7a28a7",
   "metadata": {},
   "outputs": [],
   "source": [
    "a=np.array([2,3,4,5])"
   ]
  },
  {
   "cell_type": "code",
   "execution_count": 243,
   "id": "c4f3c052",
   "metadata": {},
   "outputs": [
    {
     "data": {
      "text/plain": [
       "array([2, 3, 4, 5])"
      ]
     },
     "execution_count": 243,
     "metadata": {},
     "output_type": "execute_result"
    }
   ],
   "source": [
    "a"
   ]
  },
  {
   "cell_type": "code",
   "execution_count": 244,
   "id": "e79682d3",
   "metadata": {},
   "outputs": [
    {
     "data": {
      "text/plain": [
       "array([[2., 3., 4., 5.],\n",
       "       [2., 3., 4., 5.],\n",
       "       [2., 3., 4., 5.]])"
      ]
     },
     "execution_count": 244,
     "metadata": {},
     "output_type": "execute_result"
    }
   ],
   "source": [
    "a+arr"
   ]
  },
  {
   "cell_type": "code",
   "execution_count": 251,
   "id": "0f527c76",
   "metadata": {},
   "outputs": [],
   "source": [
    "b=np.array([2,3,4])"
   ]
  },
  {
   "cell_type": "code",
   "execution_count": 252,
   "id": "48e75bc3",
   "metadata": {},
   "outputs": [
    {
     "data": {
      "text/plain": [
       "array([2, 3, 4])"
      ]
     },
     "execution_count": 252,
     "metadata": {},
     "output_type": "execute_result"
    }
   ],
   "source": [
    "b"
   ]
  },
  {
   "cell_type": "code",
   "execution_count": 254,
   "id": "884f7f03",
   "metadata": {},
   "outputs": [
    {
     "data": {
      "text/plain": [
       "array([[2., 2., 2., 2.],\n",
       "       [3., 3., 3., 3.],\n",
       "       [4., 4., 4., 4.]])"
      ]
     },
     "execution_count": 254,
     "metadata": {},
     "output_type": "execute_result"
    }
   ],
   "source": [
    "b.reshape(3,1)+arr"
   ]
  },
  {
   "cell_type": "code",
   "execution_count": 257,
   "id": "44f0f72a",
   "metadata": {},
   "outputs": [],
   "source": [
    "arr=np.random.rand(5,4)"
   ]
  },
  {
   "cell_type": "code",
   "execution_count": 258,
   "id": "18076980",
   "metadata": {},
   "outputs": [
    {
     "data": {
      "text/plain": [
       "array([[0.15792403, 0.04775112, 0.49235448, 0.05916311],\n",
       "       [0.25619254, 0.63935791, 0.76390123, 0.78911123],\n",
       "       [0.82835803, 0.12174934, 0.76759004, 0.12092329],\n",
       "       [0.10457411, 0.22494166, 0.15542952, 0.73152814],\n",
       "       [0.5693353 , 0.48326848, 0.36442224, 0.02994216]])"
      ]
     },
     "execution_count": 258,
     "metadata": {},
     "output_type": "execute_result"
    }
   ],
   "source": [
    "arr"
   ]
  },
  {
   "cell_type": "code",
   "execution_count": 260,
   "id": "37dc15fc",
   "metadata": {},
   "outputs": [
    {
     "data": {
      "text/plain": [
       "array([[0.39739657, 0.21852031, 0.70167975, 0.24323467],\n",
       "       [0.50615466, 0.79959859, 0.87401443, 0.88831933],\n",
       "       [0.91014176, 0.34892598, 0.87612216, 0.34774027],\n",
       "       [0.32337921, 0.47428015, 0.3942455 , 0.85529418],\n",
       "       [0.75454311, 0.69517514, 0.60367395, 0.17303804]])"
      ]
     },
     "execution_count": 260,
     "metadata": {},
     "output_type": "execute_result"
    }
   ],
   "source": [
    "np.sqrt(arr)"
   ]
  },
  {
   "cell_type": "code",
   "execution_count": 261,
   "id": "5a694a8e",
   "metadata": {},
   "outputs": [
    {
     "data": {
      "text/plain": [
       "array([[-1.84564116, -3.04175268, -0.70855634, -2.82745714],\n",
       "       [-1.361826  , -0.44729087, -0.26931678, -0.236848  ],\n",
       "       [-0.18830981, -2.10579094, -0.26449948, -2.11259887],\n",
       "       [-2.25785923, -1.49191419, -1.86156293, -0.31261959],\n",
       "       [-0.56328574, -0.72718293, -1.00944209, -3.50848764]])"
      ]
     },
     "execution_count": 261,
     "metadata": {},
     "output_type": "execute_result"
    }
   ],
   "source": [
    "np.log(arr)"
   ]
  },
  {
   "cell_type": "code",
   "execution_count": 262,
   "id": "fdd7575b",
   "metadata": {},
   "outputs": [
    {
     "data": {
      "text/plain": [
       "array([[1.17107723, 1.04890957, 1.636164  , 1.06094827],\n",
       "       [1.29200147, 1.89526356, 2.14663441, 2.20143897],\n",
       "       [2.28955627, 1.12947095, 2.15456758, 1.12853834],\n",
       "       [1.11023768, 1.25224966, 1.1681596 , 2.07825405],\n",
       "       [1.76709207, 1.62136515, 1.43968197, 1.03039494]])"
      ]
     },
     "execution_count": 262,
     "metadata": {},
     "output_type": "execute_result"
    }
   ],
   "source": [
    "np.exp(arr)"
   ]
  },
  {
   "cell_type": "code",
   "execution_count": 263,
   "id": "70c74e9a",
   "metadata": {},
   "outputs": [],
   "source": [
    "arr1=np.random.randint(2,5,(5,5))"
   ]
  },
  {
   "cell_type": "code",
   "execution_count": 264,
   "id": "474712d0",
   "metadata": {},
   "outputs": [
    {
     "data": {
      "text/plain": [
       "array([[3, 4, 3, 4, 2],\n",
       "       [2, 2, 2, 2, 2],\n",
       "       [2, 4, 3, 4, 2],\n",
       "       [3, 4, 4, 2, 4],\n",
       "       [4, 2, 4, 4, 3]])"
      ]
     },
     "execution_count": 264,
     "metadata": {},
     "output_type": "execute_result"
    }
   ],
   "source": [
    "arr1"
   ]
  },
  {
   "cell_type": "code",
   "execution_count": 265,
   "id": "1208c203",
   "metadata": {},
   "outputs": [
    {
     "data": {
      "text/plain": [
       "array([[0.47712125, 0.60205999, 0.47712125, 0.60205999, 0.30103   ],\n",
       "       [0.30103   , 0.30103   , 0.30103   , 0.30103   , 0.30103   ],\n",
       "       [0.30103   , 0.60205999, 0.47712125, 0.60205999, 0.30103   ],\n",
       "       [0.47712125, 0.60205999, 0.60205999, 0.30103   , 0.60205999],\n",
       "       [0.60205999, 0.30103   , 0.60205999, 0.60205999, 0.47712125]])"
      ]
     },
     "execution_count": 265,
     "metadata": {},
     "output_type": "execute_result"
    }
   ],
   "source": [
    "np.log10(arr1)"
   ]
  },
  {
   "cell_type": "code",
   "execution_count": 266,
   "id": "6d4e59f4",
   "metadata": {},
   "outputs": [
    {
     "data": {
      "text/plain": [
       "array([[3, 4, 3, 4, 2],\n",
       "       [2, 2, 2, 2, 2],\n",
       "       [2, 4, 3, 4, 2],\n",
       "       [3, 4, 4, 2, 4],\n",
       "       [4, 2, 4, 4, 3]])"
      ]
     },
     "execution_count": 266,
     "metadata": {},
     "output_type": "execute_result"
    }
   ],
   "source": [
    "arr1"
   ]
  },
  {
   "cell_type": "code",
   "execution_count": 273,
   "id": "3c59cd40",
   "metadata": {},
   "outputs": [
    {
     "data": {
      "text/plain": [
       "array([[6, 4, 5],\n",
       "       [7, 4, 4]])"
      ]
     },
     "execution_count": 273,
     "metadata": {},
     "output_type": "execute_result"
    }
   ],
   "source": [
    "## Applying seed function \n",
    "np.random.seed(3)\n",
    "np.random.randint(4,9,(2,3))"
   ]
  },
  {
   "cell_type": "code",
   "execution_count": null,
   "id": "85f92399",
   "metadata": {},
   "outputs": [],
   "source": []
  },
  {
   "cell_type": "code",
   "execution_count": null,
   "id": "5877d293",
   "metadata": {},
   "outputs": [],
   "source": []
  },
  {
   "cell_type": "code",
   "execution_count": null,
   "id": "e81014b7",
   "metadata": {},
   "outputs": [],
   "source": []
  },
  {
   "cell_type": "code",
   "execution_count": null,
   "id": "97dc19fe",
   "metadata": {},
   "outputs": [],
   "source": []
  },
  {
   "cell_type": "code",
   "execution_count": null,
   "id": "30551ae9",
   "metadata": {},
   "outputs": [],
   "source": []
  },
  {
   "cell_type": "code",
   "execution_count": null,
   "id": "3738b226",
   "metadata": {},
   "outputs": [],
   "source": []
  }
 ],
 "metadata": {
  "kernelspec": {
   "display_name": "Python 3 (ipykernel)",
   "language": "python",
   "name": "python3"
  },
  "language_info": {
   "codemirror_mode": {
    "name": "ipython",
    "version": 3
   },
   "file_extension": ".py",
   "mimetype": "text/x-python",
   "name": "python",
   "nbconvert_exporter": "python",
   "pygments_lexer": "ipython3",
   "version": "3.9.13"
  }
 },
 "nbformat": 4,
 "nbformat_minor": 5
}
